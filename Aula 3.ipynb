{
  "cells": [
    {
      "cell_type": "markdown",
      "metadata": {
        "id": "xCydPufEWDCI"
      },
      "source": [
        "# Trabalho em grupo\n",
        "\n",
        "Instruções importantes:\n",
        "\n",
        "* Façam uma cópia deste notebook e **enviem o link** dele respondido no sistema.\n",
        "* Incluam no notebook o nome de todos os integrantes do grupo, assim como está no sistema da impacta\n",
        "* O trabalho é para ser feito em grupo de 3 a 5 pessoas\n",
        "* Todas as respostas devem apresentar o código que foi utilizado.\n",
        "* A resposta deve ser contida no espaço abaixo da pergunta a que se refere e a cima das perguntas seguintes. **Organização importa**\n",
        "* Só uma pessoa do grupo deve enviar o trabalho.\n",
        "* Prazo para o trabalho está no sistema\n",
        "* Qualquer dúvida estou a disposição :D"
      ]
    },
    {
      "cell_type": "markdown",
      "metadata": {
        "id": "_iqBwn6vWH2l"
      },
      "source": [
        "## Primeiro passo\n",
        "\n",
        "Baixe o dataset com o comando a baixo e extraia os dados importantes. Responda as questão abaixo com os dados do csv bank-full.csv"
      ]
    },
    {
      "cell_type": "code",
      "execution_count": 1,
      "metadata": {
        "colab": {
          "base_uri": "https://localhost:8080/"
        },
        "id": "mYQhxXlEVXVm",
        "outputId": "92148dce-31d1-4e1d-96c4-35ad99293d94"
      },
      "outputs": [
        {
          "name": "stdout",
          "output_type": "stream",
          "text": [
            "--2025-04-15 00:18:03--  https://archive.ics.uci.edu/static/public/222/bank+marketing.zip\n",
            "Resolving archive.ics.uci.edu (archive.ics.uci.edu)... 128.195.10.252\n",
            "Connecting to archive.ics.uci.edu (archive.ics.uci.edu)|128.195.10.252|:443... connected.\n",
            "HTTP request sent, awaiting response... 200 OK\n",
            "Length: unspecified\n",
            "Saving to: ‘bank+marketing.zip’\n",
            "\n",
            "bank+marketing.zip      [  <=>               ] 999.85K  2.95MB/s    in 0.3s    \n",
            "\n",
            "2025-04-15 00:18:04 (2.95 MB/s) - ‘bank+marketing.zip’ saved [1023843]\n",
            "\n"
          ]
        }
      ],
      "source": [
        "!wget https://archive.ics.uci.edu/static/public/222/bank+marketing.zip"
      ]
    },
    {
      "cell_type": "code",
      "execution_count": 2,
      "metadata": {
        "colab": {
          "base_uri": "https://localhost:8080/"
        },
        "id": "kGr34zqaIwYs",
        "outputId": "d259fc9f-5d4d-4da7-8f2e-1b8ac7105ed5"
      },
      "outputs": [
        {
          "name": "stdout",
          "output_type": "stream",
          "text": [
            "Archive:  bank+marketing.zip\n",
            " extracting: training_data/bank.zip  \n",
            " extracting: training_data/bank-additional.zip  \n",
            "Archive:  training_data/bank.zip\n",
            "  inflating: training_data/bank-full.csv  \n",
            "  inflating: training_data/bank-names.txt  \n",
            "  inflating: training_data/bank.csv  \n"
          ]
        }
      ],
      "source": [
        "!unzip bank+marketing.zip -d training_data\n",
        "\n",
        "!unzip training_data/bank.zip -d training_data"
      ]
    },
    {
      "cell_type": "code",
      "execution_count": 3,
      "metadata": {
        "colab": {
          "base_uri": "https://localhost:8080/",
          "height": 226
        },
        "id": "MO1ZdH_mVHAY",
        "outputId": "015ee7fe-c1e7-413c-b7bf-5af695dacfbf"
      },
      "outputs": [
        {
          "data": {
            "application/vnd.google.colaboratory.intrinsic+json": {
              "summary": "{\n  \"name\": \"df\",\n  \"rows\": 45211,\n  \"fields\": [\n    {\n      \"column\": \"age\",\n      \"properties\": {\n        \"dtype\": \"number\",\n        \"std\": 10,\n        \"min\": 18,\n        \"max\": 95,\n        \"num_unique_values\": 77,\n        \"samples\": [\n          35,\n          34,\n          53\n        ],\n        \"semantic_type\": \"\",\n        \"description\": \"\"\n      }\n    },\n    {\n      \"column\": \"job\",\n      \"properties\": {\n        \"dtype\": \"category\",\n        \"num_unique_values\": 12,\n        \"samples\": [\n          \"housemaid\",\n          \"unemployed\",\n          \"management\"\n        ],\n        \"semantic_type\": \"\",\n        \"description\": \"\"\n      }\n    },\n    {\n      \"column\": \"marital\",\n      \"properties\": {\n        \"dtype\": \"category\",\n        \"num_unique_values\": 3,\n        \"samples\": [\n          \"married\",\n          \"single\",\n          \"divorced\"\n        ],\n        \"semantic_type\": \"\",\n        \"description\": \"\"\n      }\n    },\n    {\n      \"column\": \"education\",\n      \"properties\": {\n        \"dtype\": \"category\",\n        \"num_unique_values\": 4,\n        \"samples\": [\n          \"secondary\",\n          \"primary\",\n          \"tertiary\"\n        ],\n        \"semantic_type\": \"\",\n        \"description\": \"\"\n      }\n    },\n    {\n      \"column\": \"default\",\n      \"properties\": {\n        \"dtype\": \"category\",\n        \"num_unique_values\": 2,\n        \"samples\": [\n          \"yes\",\n          \"no\"\n        ],\n        \"semantic_type\": \"\",\n        \"description\": \"\"\n      }\n    },\n    {\n      \"column\": \"balance\",\n      \"properties\": {\n        \"dtype\": \"number\",\n        \"std\": 3044,\n        \"min\": -8019,\n        \"max\": 102127,\n        \"num_unique_values\": 7168,\n        \"samples\": [\n          3276,\n          43\n        ],\n        \"semantic_type\": \"\",\n        \"description\": \"\"\n      }\n    },\n    {\n      \"column\": \"housing\",\n      \"properties\": {\n        \"dtype\": \"category\",\n        \"num_unique_values\": 2,\n        \"samples\": [\n          \"no\",\n          \"yes\"\n        ],\n        \"semantic_type\": \"\",\n        \"description\": \"\"\n      }\n    },\n    {\n      \"column\": \"loan\",\n      \"properties\": {\n        \"dtype\": \"category\",\n        \"num_unique_values\": 2,\n        \"samples\": [\n          \"yes\",\n          \"no\"\n        ],\n        \"semantic_type\": \"\",\n        \"description\": \"\"\n      }\n    },\n    {\n      \"column\": \"contact\",\n      \"properties\": {\n        \"dtype\": \"category\",\n        \"num_unique_values\": 3,\n        \"samples\": [\n          \"unknown\",\n          \"cellular\"\n        ],\n        \"semantic_type\": \"\",\n        \"description\": \"\"\n      }\n    },\n    {\n      \"column\": \"day\",\n      \"properties\": {\n        \"dtype\": \"number\",\n        \"std\": 8,\n        \"min\": 1,\n        \"max\": 31,\n        \"num_unique_values\": 31,\n        \"samples\": [\n          1,\n          27\n        ],\n        \"semantic_type\": \"\",\n        \"description\": \"\"\n      }\n    },\n    {\n      \"column\": \"month\",\n      \"properties\": {\n        \"dtype\": \"category\",\n        \"num_unique_values\": 12,\n        \"samples\": [\n          \"apr\",\n          \"mar\"\n        ],\n        \"semantic_type\": \"\",\n        \"description\": \"\"\n      }\n    },\n    {\n      \"column\": \"duration\",\n      \"properties\": {\n        \"dtype\": \"number\",\n        \"std\": 257,\n        \"min\": 0,\n        \"max\": 4918,\n        \"num_unique_values\": 1573,\n        \"samples\": [\n          835,\n          1135\n        ],\n        \"semantic_type\": \"\",\n        \"description\": \"\"\n      }\n    },\n    {\n      \"column\": \"campaign\",\n      \"properties\": {\n        \"dtype\": \"number\",\n        \"std\": 3,\n        \"min\": 1,\n        \"max\": 63,\n        \"num_unique_values\": 48,\n        \"samples\": [\n          41,\n          27\n        ],\n        \"semantic_type\": \"\",\n        \"description\": \"\"\n      }\n    },\n    {\n      \"column\": \"pdays\",\n      \"properties\": {\n        \"dtype\": \"number\",\n        \"std\": 100,\n        \"min\": -1,\n        \"max\": 871,\n        \"num_unique_values\": 559,\n        \"samples\": [\n          249,\n          551\n        ],\n        \"semantic_type\": \"\",\n        \"description\": \"\"\n      }\n    },\n    {\n      \"column\": \"previous\",\n      \"properties\": {\n        \"dtype\": \"number\",\n        \"std\": 2,\n        \"min\": 0,\n        \"max\": 275,\n        \"num_unique_values\": 41,\n        \"samples\": [\n          17,\n          9\n        ],\n        \"semantic_type\": \"\",\n        \"description\": \"\"\n      }\n    },\n    {\n      \"column\": \"poutcome\",\n      \"properties\": {\n        \"dtype\": \"category\",\n        \"num_unique_values\": 4,\n        \"samples\": [\n          \"failure\",\n          \"success\"\n        ],\n        \"semantic_type\": \"\",\n        \"description\": \"\"\n      }\n    },\n    {\n      \"column\": \"y\",\n      \"properties\": {\n        \"dtype\": \"category\",\n        \"num_unique_values\": 2,\n        \"samples\": [\n          \"yes\",\n          \"no\"\n        ],\n        \"semantic_type\": \"\",\n        \"description\": \"\"\n      }\n    }\n  ]\n}",
              "type": "dataframe",
              "variable_name": "df"
            },
            "text/html": [
              "\n",
              "  <div id=\"df-371afe8f-0c87-4bed-aa8d-d06709118b1c\" class=\"colab-df-container\">\n",
              "    <div>\n",
              "<style scoped>\n",
              "    .dataframe tbody tr th:only-of-type {\n",
              "        vertical-align: middle;\n",
              "    }\n",
              "\n",
              "    .dataframe tbody tr th {\n",
              "        vertical-align: top;\n",
              "    }\n",
              "\n",
              "    .dataframe thead th {\n",
              "        text-align: right;\n",
              "    }\n",
              "</style>\n",
              "<table border=\"1\" class=\"dataframe\">\n",
              "  <thead>\n",
              "    <tr style=\"text-align: right;\">\n",
              "      <th></th>\n",
              "      <th>age</th>\n",
              "      <th>job</th>\n",
              "      <th>marital</th>\n",
              "      <th>education</th>\n",
              "      <th>default</th>\n",
              "      <th>balance</th>\n",
              "      <th>housing</th>\n",
              "      <th>loan</th>\n",
              "      <th>contact</th>\n",
              "      <th>day</th>\n",
              "      <th>month</th>\n",
              "      <th>duration</th>\n",
              "      <th>campaign</th>\n",
              "      <th>pdays</th>\n",
              "      <th>previous</th>\n",
              "      <th>poutcome</th>\n",
              "      <th>y</th>\n",
              "    </tr>\n",
              "  </thead>\n",
              "  <tbody>\n",
              "    <tr>\n",
              "      <th>0</th>\n",
              "      <td>58</td>\n",
              "      <td>management</td>\n",
              "      <td>married</td>\n",
              "      <td>tertiary</td>\n",
              "      <td>no</td>\n",
              "      <td>2143</td>\n",
              "      <td>yes</td>\n",
              "      <td>no</td>\n",
              "      <td>unknown</td>\n",
              "      <td>5</td>\n",
              "      <td>may</td>\n",
              "      <td>261</td>\n",
              "      <td>1</td>\n",
              "      <td>-1</td>\n",
              "      <td>0</td>\n",
              "      <td>unknown</td>\n",
              "      <td>no</td>\n",
              "    </tr>\n",
              "    <tr>\n",
              "      <th>1</th>\n",
              "      <td>44</td>\n",
              "      <td>technician</td>\n",
              "      <td>single</td>\n",
              "      <td>secondary</td>\n",
              "      <td>no</td>\n",
              "      <td>29</td>\n",
              "      <td>yes</td>\n",
              "      <td>no</td>\n",
              "      <td>unknown</td>\n",
              "      <td>5</td>\n",
              "      <td>may</td>\n",
              "      <td>151</td>\n",
              "      <td>1</td>\n",
              "      <td>-1</td>\n",
              "      <td>0</td>\n",
              "      <td>unknown</td>\n",
              "      <td>no</td>\n",
              "    </tr>\n",
              "    <tr>\n",
              "      <th>2</th>\n",
              "      <td>33</td>\n",
              "      <td>entrepreneur</td>\n",
              "      <td>married</td>\n",
              "      <td>secondary</td>\n",
              "      <td>no</td>\n",
              "      <td>2</td>\n",
              "      <td>yes</td>\n",
              "      <td>yes</td>\n",
              "      <td>unknown</td>\n",
              "      <td>5</td>\n",
              "      <td>may</td>\n",
              "      <td>76</td>\n",
              "      <td>1</td>\n",
              "      <td>-1</td>\n",
              "      <td>0</td>\n",
              "      <td>unknown</td>\n",
              "      <td>no</td>\n",
              "    </tr>\n",
              "    <tr>\n",
              "      <th>3</th>\n",
              "      <td>47</td>\n",
              "      <td>blue-collar</td>\n",
              "      <td>married</td>\n",
              "      <td>unknown</td>\n",
              "      <td>no</td>\n",
              "      <td>1506</td>\n",
              "      <td>yes</td>\n",
              "      <td>no</td>\n",
              "      <td>unknown</td>\n",
              "      <td>5</td>\n",
              "      <td>may</td>\n",
              "      <td>92</td>\n",
              "      <td>1</td>\n",
              "      <td>-1</td>\n",
              "      <td>0</td>\n",
              "      <td>unknown</td>\n",
              "      <td>no</td>\n",
              "    </tr>\n",
              "    <tr>\n",
              "      <th>4</th>\n",
              "      <td>33</td>\n",
              "      <td>unknown</td>\n",
              "      <td>single</td>\n",
              "      <td>unknown</td>\n",
              "      <td>no</td>\n",
              "      <td>1</td>\n",
              "      <td>no</td>\n",
              "      <td>no</td>\n",
              "      <td>unknown</td>\n",
              "      <td>5</td>\n",
              "      <td>may</td>\n",
              "      <td>198</td>\n",
              "      <td>1</td>\n",
              "      <td>-1</td>\n",
              "      <td>0</td>\n",
              "      <td>unknown</td>\n",
              "      <td>no</td>\n",
              "    </tr>\n",
              "  </tbody>\n",
              "</table>\n",
              "</div>\n",
              "    <div class=\"colab-df-buttons\">\n",
              "\n",
              "  <div class=\"colab-df-container\">\n",
              "    <button class=\"colab-df-convert\" onclick=\"convertToInteractive('df-371afe8f-0c87-4bed-aa8d-d06709118b1c')\"\n",
              "            title=\"Convert this dataframe to an interactive table.\"\n",
              "            style=\"display:none;\">\n",
              "\n",
              "  <svg xmlns=\"http://www.w3.org/2000/svg\" height=\"24px\" viewBox=\"0 -960 960 960\">\n",
              "    <path d=\"M120-120v-720h720v720H120Zm60-500h600v-160H180v160Zm220 220h160v-160H400v160Zm0 220h160v-160H400v160ZM180-400h160v-160H180v160Zm440 0h160v-160H620v160ZM180-180h160v-160H180v160Zm440 0h160v-160H620v160Z\"/>\n",
              "  </svg>\n",
              "    </button>\n",
              "\n",
              "  <style>\n",
              "    .colab-df-container {\n",
              "      display:flex;\n",
              "      gap: 12px;\n",
              "    }\n",
              "\n",
              "    .colab-df-convert {\n",
              "      background-color: #E8F0FE;\n",
              "      border: none;\n",
              "      border-radius: 50%;\n",
              "      cursor: pointer;\n",
              "      display: none;\n",
              "      fill: #1967D2;\n",
              "      height: 32px;\n",
              "      padding: 0 0 0 0;\n",
              "      width: 32px;\n",
              "    }\n",
              "\n",
              "    .colab-df-convert:hover {\n",
              "      background-color: #E2EBFA;\n",
              "      box-shadow: 0px 1px 2px rgba(60, 64, 67, 0.3), 0px 1px 3px 1px rgba(60, 64, 67, 0.15);\n",
              "      fill: #174EA6;\n",
              "    }\n",
              "\n",
              "    .colab-df-buttons div {\n",
              "      margin-bottom: 4px;\n",
              "    }\n",
              "\n",
              "    [theme=dark] .colab-df-convert {\n",
              "      background-color: #3B4455;\n",
              "      fill: #D2E3FC;\n",
              "    }\n",
              "\n",
              "    [theme=dark] .colab-df-convert:hover {\n",
              "      background-color: #434B5C;\n",
              "      box-shadow: 0px 1px 3px 1px rgba(0, 0, 0, 0.15);\n",
              "      filter: drop-shadow(0px 1px 2px rgba(0, 0, 0, 0.3));\n",
              "      fill: #FFFFFF;\n",
              "    }\n",
              "  </style>\n",
              "\n",
              "    <script>\n",
              "      const buttonEl =\n",
              "        document.querySelector('#df-371afe8f-0c87-4bed-aa8d-d06709118b1c button.colab-df-convert');\n",
              "      buttonEl.style.display =\n",
              "        google.colab.kernel.accessAllowed ? 'block' : 'none';\n",
              "\n",
              "      async function convertToInteractive(key) {\n",
              "        const element = document.querySelector('#df-371afe8f-0c87-4bed-aa8d-d06709118b1c');\n",
              "        const dataTable =\n",
              "          await google.colab.kernel.invokeFunction('convertToInteractive',\n",
              "                                                    [key], {});\n",
              "        if (!dataTable) return;\n",
              "\n",
              "        const docLinkHtml = 'Like what you see? Visit the ' +\n",
              "          '<a target=\"_blank\" href=https://colab.research.google.com/notebooks/data_table.ipynb>data table notebook</a>'\n",
              "          + ' to learn more about interactive tables.';\n",
              "        element.innerHTML = '';\n",
              "        dataTable['output_type'] = 'display_data';\n",
              "        await google.colab.output.renderOutput(dataTable, element);\n",
              "        const docLink = document.createElement('div');\n",
              "        docLink.innerHTML = docLinkHtml;\n",
              "        element.appendChild(docLink);\n",
              "      }\n",
              "    </script>\n",
              "  </div>\n",
              "\n",
              "\n",
              "<div id=\"df-adb6f390-a8a3-4d54-aeec-e8fa16639c2f\">\n",
              "  <button class=\"colab-df-quickchart\" onclick=\"quickchart('df-adb6f390-a8a3-4d54-aeec-e8fa16639c2f')\"\n",
              "            title=\"Suggest charts\"\n",
              "            style=\"display:none;\">\n",
              "\n",
              "<svg xmlns=\"http://www.w3.org/2000/svg\" height=\"24px\"viewBox=\"0 0 24 24\"\n",
              "     width=\"24px\">\n",
              "    <g>\n",
              "        <path d=\"M19 3H5c-1.1 0-2 .9-2 2v14c0 1.1.9 2 2 2h14c1.1 0 2-.9 2-2V5c0-1.1-.9-2-2-2zM9 17H7v-7h2v7zm4 0h-2V7h2v10zm4 0h-2v-4h2v4z\"/>\n",
              "    </g>\n",
              "</svg>\n",
              "  </button>\n",
              "\n",
              "<style>\n",
              "  .colab-df-quickchart {\n",
              "      --bg-color: #E8F0FE;\n",
              "      --fill-color: #1967D2;\n",
              "      --hover-bg-color: #E2EBFA;\n",
              "      --hover-fill-color: #174EA6;\n",
              "      --disabled-fill-color: #AAA;\n",
              "      --disabled-bg-color: #DDD;\n",
              "  }\n",
              "\n",
              "  [theme=dark] .colab-df-quickchart {\n",
              "      --bg-color: #3B4455;\n",
              "      --fill-color: #D2E3FC;\n",
              "      --hover-bg-color: #434B5C;\n",
              "      --hover-fill-color: #FFFFFF;\n",
              "      --disabled-bg-color: #3B4455;\n",
              "      --disabled-fill-color: #666;\n",
              "  }\n",
              "\n",
              "  .colab-df-quickchart {\n",
              "    background-color: var(--bg-color);\n",
              "    border: none;\n",
              "    border-radius: 50%;\n",
              "    cursor: pointer;\n",
              "    display: none;\n",
              "    fill: var(--fill-color);\n",
              "    height: 32px;\n",
              "    padding: 0;\n",
              "    width: 32px;\n",
              "  }\n",
              "\n",
              "  .colab-df-quickchart:hover {\n",
              "    background-color: var(--hover-bg-color);\n",
              "    box-shadow: 0 1px 2px rgba(60, 64, 67, 0.3), 0 1px 3px 1px rgba(60, 64, 67, 0.15);\n",
              "    fill: var(--button-hover-fill-color);\n",
              "  }\n",
              "\n",
              "  .colab-df-quickchart-complete:disabled,\n",
              "  .colab-df-quickchart-complete:disabled:hover {\n",
              "    background-color: var(--disabled-bg-color);\n",
              "    fill: var(--disabled-fill-color);\n",
              "    box-shadow: none;\n",
              "  }\n",
              "\n",
              "  .colab-df-spinner {\n",
              "    border: 2px solid var(--fill-color);\n",
              "    border-color: transparent;\n",
              "    border-bottom-color: var(--fill-color);\n",
              "    animation:\n",
              "      spin 1s steps(1) infinite;\n",
              "  }\n",
              "\n",
              "  @keyframes spin {\n",
              "    0% {\n",
              "      border-color: transparent;\n",
              "      border-bottom-color: var(--fill-color);\n",
              "      border-left-color: var(--fill-color);\n",
              "    }\n",
              "    20% {\n",
              "      border-color: transparent;\n",
              "      border-left-color: var(--fill-color);\n",
              "      border-top-color: var(--fill-color);\n",
              "    }\n",
              "    30% {\n",
              "      border-color: transparent;\n",
              "      border-left-color: var(--fill-color);\n",
              "      border-top-color: var(--fill-color);\n",
              "      border-right-color: var(--fill-color);\n",
              "    }\n",
              "    40% {\n",
              "      border-color: transparent;\n",
              "      border-right-color: var(--fill-color);\n",
              "      border-top-color: var(--fill-color);\n",
              "    }\n",
              "    60% {\n",
              "      border-color: transparent;\n",
              "      border-right-color: var(--fill-color);\n",
              "    }\n",
              "    80% {\n",
              "      border-color: transparent;\n",
              "      border-right-color: var(--fill-color);\n",
              "      border-bottom-color: var(--fill-color);\n",
              "    }\n",
              "    90% {\n",
              "      border-color: transparent;\n",
              "      border-bottom-color: var(--fill-color);\n",
              "    }\n",
              "  }\n",
              "</style>\n",
              "\n",
              "  <script>\n",
              "    async function quickchart(key) {\n",
              "      const quickchartButtonEl =\n",
              "        document.querySelector('#' + key + ' button');\n",
              "      quickchartButtonEl.disabled = true;  // To prevent multiple clicks.\n",
              "      quickchartButtonEl.classList.add('colab-df-spinner');\n",
              "      try {\n",
              "        const charts = await google.colab.kernel.invokeFunction(\n",
              "            'suggestCharts', [key], {});\n",
              "      } catch (error) {\n",
              "        console.error('Error during call to suggestCharts:', error);\n",
              "      }\n",
              "      quickchartButtonEl.classList.remove('colab-df-spinner');\n",
              "      quickchartButtonEl.classList.add('colab-df-quickchart-complete');\n",
              "    }\n",
              "    (() => {\n",
              "      let quickchartButtonEl =\n",
              "        document.querySelector('#df-adb6f390-a8a3-4d54-aeec-e8fa16639c2f button');\n",
              "      quickchartButtonEl.style.display =\n",
              "        google.colab.kernel.accessAllowed ? 'block' : 'none';\n",
              "    })();\n",
              "  </script>\n",
              "</div>\n",
              "\n",
              "    </div>\n",
              "  </div>\n"
            ],
            "text/plain": [
              "   age           job  marital  education default  balance housing loan  \\\n",
              "0   58    management  married   tertiary      no     2143     yes   no   \n",
              "1   44    technician   single  secondary      no       29     yes   no   \n",
              "2   33  entrepreneur  married  secondary      no        2     yes  yes   \n",
              "3   47   blue-collar  married    unknown      no     1506     yes   no   \n",
              "4   33       unknown   single    unknown      no        1      no   no   \n",
              "\n",
              "   contact  day month  duration  campaign  pdays  previous poutcome   y  \n",
              "0  unknown    5   may       261         1     -1         0  unknown  no  \n",
              "1  unknown    5   may       151         1     -1         0  unknown  no  \n",
              "2  unknown    5   may        76         1     -1         0  unknown  no  \n",
              "3  unknown    5   may        92         1     -1         0  unknown  no  \n",
              "4  unknown    5   may       198         1     -1         0  unknown  no  "
            ]
          },
          "execution_count": 3,
          "metadata": {},
          "output_type": "execute_result"
        }
      ],
      "source": [
        "import pandas as pd\n",
        "\n",
        "# Caminho correto do CSV extraído\n",
        "df = pd.read_csv(\"training_data/bank-full.csv\", sep=';')\n",
        "\n",
        "# Validar para Saber se está funcionando\n",
        "df.head()\n"
      ]
    },
    {
      "cell_type": "markdown",
      "metadata": {
        "id": "osfSGlhAWOcb"
      },
      "source": [
        "## Questão 1\n",
        "\n",
        "Qual a moda matemática da coluna \"education\"?"
      ]
    },
    {
      "cell_type": "code",
      "execution_count": 4,
      "metadata": {
        "colab": {
          "base_uri": "https://localhost:8080/"
        },
        "id": "PHIS_WwCL1UU",
        "outputId": "b02b4e68-0ed7-44fb-fc08-f6cd4afd7bd7"
      },
      "outputs": [
        {
          "name": "stdout",
          "output_type": "stream",
          "text": [
            "A moda da coluna education é: ['secondary']\n"
          ]
        }
      ],
      "source": [
        "import pandas as pd\n",
        "\n",
        "# Calculando a moda\n",
        "moda = df['education'].mode()\n",
        "\n",
        "print(\"A moda da coluna education é:\", moda.tolist())"
      ]
    },
    {
      "cell_type": "markdown",
      "metadata": {
        "id": "oEEmi40vYlVo"
      },
      "source": [
        "## Questão 2\n",
        "\n",
        "Separe o dataset em treino, validação e teste, utilizando a função [train_test_split](https://scikit-learn.org/stable/modules/generated/sklearn.model_selection.train_test_split.html). Sendo 60% do dataset para treino, 20% para validação e 20% para teste\n",
        "\n",
        "Obs: O conjunto de validação deve vir do de treino, se não tiver sido especificado"
      ]
    },
    {
      "cell_type": "code",
      "execution_count": null,
      "metadata": {
        "colab": {
          "base_uri": "https://localhost:8080/"
        },
        "id": "hpT-uLT_S6SH",
        "outputId": "bcc81776-c852-49b6-90f0-ec976386c845"
      },
      "outputs": [
        {
          "name": "stdout",
          "output_type": "stream",
          "text": [
            "Treino: 27126 amostras\n",
            "Validação: 9042 amostras\n",
            "Teste: 9043 amostras\n"
          ]
        }
      ],
      "source": [
        "from sklearn.model_selection import train_test_split\n",
        "\n",
        "\n",
        "\n",
        "X = df.drop('y', axis=1)\n",
        "y = df['y']\n",
        "\n",
        "X_trainval, X_test, y_trainval, y_test = train_test_split(X, y, test_size=0.2, random_state=42, stratify=y)\n",
        "\n",
        "\n",
        "X_train, X_val, y_train, y_val = train_test_split(X_trainval, y_trainval, test_size=0.25, random_state=42, stratify=y_trainval)\n",
        "\n",
        "# tamanhos\n",
        "print(f\"Treino: {len(X_train)} amostras\")\n",
        "print(f\"Validação: {len(X_val)} amostras\")\n",
        "print(f\"Teste: {len(X_test)} amostras\")\n"
      ]
    },
    {
      "cell_type": "markdown",
      "metadata": {
        "id": "60yvJ8jIWVmJ"
      },
      "source": [
        "## Questão 3\n",
        "\n",
        "Crie uma [matrix de correlaçao](https://www.google.com/search?q=correlation+matrix) e responda quais são as colunas com válores números continuos com maior correlação?"
      ]
    },
    {
      "cell_type": "code",
      "execution_count": null,
      "metadata": {
        "colab": {
          "base_uri": "https://localhost:8080/",
          "height": 699
        },
        "id": "bvr7kFdYQhHn",
        "outputId": "ac625873-9607-4af7-b7b0-0f56a1f4aaed"
      },
      "outputs": [
        {
          "data": {
            "image/png": "[encoded data removed]",
            "text/plain": [
              "<Figure size 1000x800 with 2 Axes>"
            ]
          },
          "metadata": {},
          "output_type": "display_data"
        }
      ],
      "source": [
        "import seaborn as sns\n",
        "import matplotlib.pyplot as plt\n",
        "\n",
        "\n",
        "correlation_matrix = df.corr(numeric_only=True)\n",
        "\n",
        "plt.figure(figsize=(10, 8))\n",
        "sns.heatmap(correlation_matrix, annot=True, cmap='coolwarm', fmt=\".2f\")\n",
        "plt.title(\"Matriz de Correlação\")\n",
        "plt.show()\n"
      ]
    },
    {
      "cell_type": "code",
      "execution_count": null,
      "metadata": {
        "colab": {
          "base_uri": "https://localhost:8080/"
        },
        "id": "_eng7_wuX2bz",
        "outputId": "09d43f11-0d65-4394-bedb-0ee74e929703"
      },
      "outputs": [
        {
          "name": "stdout",
          "output_type": "stream",
          "text": [
            "Top 5 correlações entre colunas numéricas contínuas:\n",
            "pdays    previous    0.454820\n",
            "day      campaign    0.162490\n",
            "balance  age         0.097783\n",
            "pdays    day         0.093044\n",
            "         campaign    0.088628\n",
            "dtype: float64\n"
          ]
        }
      ],
      "source": [
        "correlation_pairs = correlation_matrix.abs().unstack().sort_values(ascending=False)\n",
        "correlation_pairs = correlation_pairs[correlation_pairs < 1]\n",
        "\n",
        "# Top 5\n",
        "top_correlated = correlation_pairs.drop_duplicates().head(5)\n",
        "print(\"Top 5 correlações entre colunas numéricas contínuas:\")\n",
        "print(top_correlated)\n"
      ]
    },
    {
      "cell_type": "markdown",
      "metadata": {
        "id": "awGqlG0iWhuM"
      },
      "source": [
        "## Questão 4\n",
        "\n",
        "Agora treine um modelo de regressão logística, apenas com as variáveis numéricas e mostre a accurácia para o conjunto de treino e validação."
      ]
    },
    {
      "cell_type": "code",
      "execution_count": null,
      "metadata": {
        "colab": {
          "base_uri": "https://localhost:8080/"
        },
        "id": "NcoHCg5uWmx2",
        "outputId": "b5ba2d79-e305-4eba-f06d-e4715c71af1a"
      },
      "outputs": [
        {
          "name": "stdout",
          "output_type": "stream",
          "text": [
            "Acurácia no treino: 0.8898\n",
            "Acurácia na validação: 0.8891\n"
          ]
        }
      ],
      "source": [
        "X_numeric = df.select_dtypes(include=['int64', 'float64']).drop(columns='y', errors='ignore')\n",
        "y = df['y'].map({'yes': 1, 'no': 0})\n",
        "\n",
        "from sklearn.model_selection import train_test_split\n",
        "\n",
        "\n",
        "X_train, X_temp, y_train, y_temp = train_test_split(X_numeric, y, test_size=0.4, random_state=42, stratify=y)\n",
        "\n",
        "\n",
        "X_val, X_test, y_val, y_test = train_test_split(X_temp, y_temp, test_size=0.5, random_state=42, stratify=y_temp)\n",
        "\n",
        "from sklearn.linear_model import LogisticRegression\n",
        "from sklearn.metrics import accuracy_score\n",
        "\n",
        "\n",
        "model = LogisticRegression(max_iter=1000)\n",
        "model.fit(X_train, y_train)\n",
        "\n",
        "\n",
        "train_acc = accuracy_score(y_train, model.predict(X_train))\n",
        "val_acc = accuracy_score(y_val, model.predict(X_val))\n",
        "\n",
        "print(f\"Acurácia no treino: {train_acc:.4f}\")\n",
        "print(f\"Acurácia na validação: {val_acc:.4f}\")\n"
      ]
    },
    {
      "cell_type": "markdown",
      "metadata": {
        "id": "zhbHRFlcWp7G"
      },
      "source": [
        "## Questão 5\n",
        "\n",
        "Faça o mesmo da questão 4, agora para um modelo de árvore de decisão"
      ]
    },
    {
      "cell_type": "code",
      "execution_count": 7,
      "metadata": {
        "colab": {
          "base_uri": "https://localhost:8080/"
        },
        "id": "RNkg7ls9Wufd",
        "outputId": "efa6bf49-644b-4b72-f57a-38025edf1911"
      },
      "outputs": [
        {
          "name": "stdout",
          "output_type": "stream",
          "text": [
            "Acurácia no treino (Árvore): 1.0000\n",
            "Acurácia na validação (Árvore): 0.8448\n"
          ]
        }
      ],
      "source": [
        "from sklearn.tree import DecisionTreeClassifier\n",
        "\n",
        "# Criar e treinar o modelo\n",
        "tree_model = DecisionTreeClassifier(random_state=42)\n",
        "tree_model.fit(X_train, y_train)\n",
        "\n",
        "# Previsões\n",
        "y_train_pred_tree = tree_model.predict(X_train)\n",
        "y_val_pred_tree = tree_model.predict(X_val)\n",
        "\n",
        "# Acurácias\n",
        "acc_train_tree = accuracy_score(y_train, y_train_pred_tree)\n",
        "acc_val_tree = accuracy_score(y_val, y_val_pred_tree)\n",
        "\n",
        "print(f\"Acurácia no treino (Árvore): {acc_train_tree:.4f}\")\n",
        "print(f\"Acurácia na validação (Árvore): {acc_val_tree:.4f}\")"
      ]
    },
    {
      "cell_type": "markdown",
      "metadata": {
        "id": "_NNk9YjGWvAz"
      },
      "source": [
        "## Questão 6\n",
        "\n",
        "Por fim, use o modelo de [random forrest](https://scikit-learn.org/stable/modules/generated/sklearn.ensemble.RandomForestClassifier.html) e responda as mesmas perguntas que na questão 4"
      ]
    },
    {
      "cell_type": "code",
      "execution_count": 8,
      "metadata": {
        "colab": {
          "base_uri": "https://localhost:8080/"
        },
        "id": "BAvlOZYqW27W",
        "outputId": "74a25d84-597c-4db4-9a34-e0517e6ae5d5"
      },
      "outputs": [
        {
          "name": "stdout",
          "output_type": "stream",
          "text": [
            "Acurácia no treino (Random Forest): 0.9999\n",
            "Acurácia na validação (Random Forest): 0.8926\n"
          ]
        }
      ],
      "source": [
        "from sklearn.ensemble import RandomForestClassifier\n",
        "\n",
        "# Criar e treinar o modelo\n",
        "rf_model = RandomForestClassifier(random_state=42)\n",
        "rf_model.fit(X_train, y_train)\n",
        "\n",
        "from sklearn.metrics import accuracy_score\n",
        "\n",
        "# Previsões\n",
        "y_train_pred_rf = rf_model.predict(X_train)\n",
        "y_val_pred_rf = rf_model.predict(X_val)\n",
        "\n",
        "# Acurácias\n",
        "acc_train_rf = accuracy_score(y_train, y_train_pred_rf)\n",
        "acc_val_rf = accuracy_score(y_val, y_val_pred_rf)\n",
        "\n",
        "print(f\"Acurácia no treino (Random Forest): {acc_train_rf:.4f}\")\n",
        "print(f\"Acurácia na validação (Random Forest): {acc_val_rf:.4f}\")\n"
      ]
    },
    {
      "cell_type": "markdown",
      "metadata": {
        "id": "iOLz6QNrW9XI"
      },
      "source": [
        "## Questão 7\n",
        "\n",
        "Treine o modelo de regressão logística mais uma vez, mas desta vez use a cross validação com [cross_validate](https://scikit-learn.org/stable/modules/generated/sklearn.model_selection.cross_validate.html), cv=5. Qual o resultado médio? Quais são os coeficientes aprendidos pelo melhor modelo de regressão logística?"
      ]
    },
    {
      "cell_type": "code",
      "execution_count": 9,
      "metadata": {
        "colab": {
          "base_uri": "https://localhost:8080/"
        },
        "id": "8HHDH3IvXBdT",
        "outputId": "b3e6ce00-4eb6-494a-f8e6-e3811c4ae173"
      },
      "outputs": [
        {
          "name": "stdout",
          "output_type": "stream",
          "text": [
            "Acurácia média com cross-validation (cv=5): 0.8893\n",
            "age: 0.0061\n",
            "balance: 0.0000\n",
            "day: -0.0009\n",
            "duration: 0.0037\n",
            "campaign: -0.1196\n",
            "pdays: 0.0021\n",
            "previous: 0.0792\n"
          ]
        }
      ],
      "source": [
        "\n",
        "import pandas as pd\n",
        "\n",
        "X_train_val = pd.concat([X_train, X_val])\n",
        "y_train_val = pd.concat([y_train, y_val])\n",
        "\n",
        "from sklearn.linear_model import LogisticRegression\n",
        "from sklearn.model_selection import cross_validate\n",
        "import numpy as np\n",
        "\n",
        "model = LogisticRegression(max_iter=1000)\n",
        "\n",
        "results = cross_validate(model, X_train_val, y_train_val, cv=5, return_estimator=True, scoring='accuracy')\n",
        "mean_accuracy = np.mean(results['test_score'])\n",
        "\n",
        "print(f\"Acurácia média com cross-validation (cv=5): {mean_accuracy:.4f}\")\n",
        "\n",
        "best_idx = np.argmax(results['test_score'])\n",
        "best_model = results['estimator'][best_idx]\n",
        "\n",
        "for name, coef in zip(X_train_val.columns, best_model.coef_[0]):\n",
        "    print(f\"{name}: {coef:.4f}\")\n"
      ]
    },
    {
      "cell_type": "markdown",
      "metadata": {
        "id": "ElUPSvi5L1cI"
      },
      "source": [
        "## Questão 8\n",
        "\n",
        "Calcule [precision](https://scikit-learn.org/stable/modules/generated/sklearn.metrics.precision_score.html), [recall](https://scikit-learn.org/stable/modules/generated/sklearn.metrics.recall_score.html) para os 3 modelos no conjunto de validação utilizando as funções do scikit learn"
      ]
    },
    {
      "cell_type": "code",
      "execution_count": 10,
      "metadata": {
        "colab": {
          "base_uri": "https://localhost:8080/"
        },
        "id": "WaLc0wcwL0tc",
        "outputId": "354a488d-7843-4d99-87bd-fa60979d482e"
      },
      "outputs": [
        {
          "name": "stdout",
          "output_type": "stream",
          "text": [
            "Regressão Logística:\n",
            "  Precision: 0.5890\n",
            "  Recall:    0.1720\n",
            "\n",
            "Árvore de Decisão:\n",
            "  Precision: 0.3564\n",
            "  Recall:    0.4045\n",
            "\n",
            "Random Forest:\n",
            "  Precision: 0.5749\n",
            "  Recall:    0.3157\n",
            "\n"
          ]
        }
      ],
      "source": [
        "\n",
        "from sklearn.linear_model import LogisticRegression\n",
        "\n",
        "logreg_model = LogisticRegression(max_iter=1000)\n",
        "logreg_model.fit(X_train, y_train)\n",
        "\n",
        "from sklearn.tree import DecisionTreeClassifier\n",
        "\n",
        "tree_model = DecisionTreeClassifier(random_state=42)\n",
        "tree_model.fit(X_train, y_train)\n",
        "\n",
        "from sklearn.ensemble import RandomForestClassifier\n",
        "\n",
        "rf_model = RandomForestClassifier(random_state=42)\n",
        "rf_model.fit(X_train, y_train)\n",
        "\n",
        "from sklearn.metrics import precision_score, recall_score\n",
        "\n",
        "modelos = {\n",
        "    \"Regressão Logística\": logreg_model,\n",
        "    \"Árvore de Decisão\": tree_model,\n",
        "    \"Random Forest\": rf_model\n",
        "}\n",
        "\n",
        "for nome, modelo in modelos.items():\n",
        "    y_pred = modelo.predict(X_val)\n",
        "    precision = precision_score(y_val, y_pred, pos_label=1)\n",
        "    recall = recall_score(y_val, y_pred, pos_label=1)\n",
        "    print(f\"{nome}:\")\n",
        "    print(f\"  Precision: {precision:.4f}\")\n",
        "    print(f\"  Recall:    {recall:.4f}\\n\")\n"
      ]
    },
    {
      "cell_type": "markdown",
      "metadata": {
        "id": "oaylOD9FMWDB"
      },
      "source": [
        "## Questão 9\n",
        "\n",
        "Calcule, acurácia, precisão e recall para os três modelos no conjunto de validação, mas desta vez crie funções para calcular cada uma das métricas"
      ]
    },
    {
      "cell_type": "code",
      "execution_count": 11,
      "metadata": {
        "colab": {
          "base_uri": "https://localhost:8080/"
        },
        "id": "NE5U79zyMWQS",
        "outputId": "ea1a0979-da50-4800-ccd3-5ba297f38eeb"
      },
      "outputs": [
        {
          "name": "stdout",
          "output_type": "stream",
          "text": [
            "Regressão Logística:\n",
            "  Acurácia:  0.8891\n",
            "  Precisão:  0.5890\n",
            "  Recall:    0.1720\n",
            "\n",
            "Árvore de Decisão:\n",
            "  Acurácia:  0.8448\n",
            "  Precisão:  0.3564\n",
            "  Recall:    0.4045\n",
            "\n",
            "Random Forest:\n",
            "  Acurácia:  0.8926\n",
            "  Precisão:  0.5749\n",
            "  Recall:    0.3157\n",
            "\n"
          ]
        }
      ],
      "source": [
        "from sklearn.metrics import accuracy_score, precision_score, recall_score\n",
        "\n",
        "# Funções para cada métrica\n",
        "def calc_accuracy(y_true, y_pred):\n",
        "    return accuracy_score(y_true, y_pred)\n",
        "\n",
        "def calc_precision(y_true, y_pred):\n",
        "    return precision_score(y_true, y_pred, pos_label=1)\n",
        "\n",
        "def calc_recall(y_true, y_pred):\n",
        "    return recall_score(y_true, y_pred, pos_label=1)\n",
        "\n",
        "# Aplicando nos três modelos\n",
        "for nome, modelo in modelos.items():\n",
        "    y_pred = modelo.predict(X_val)\n",
        "    acc = calc_accuracy(y_val, y_pred)\n",
        "    prec = calc_precision(y_val, y_pred)\n",
        "    rec = calc_recall(y_val, y_pred)\n",
        "\n",
        "    print(f\"{nome}:\")\n",
        "    print(f\"  Acurácia:  {acc:.4f}\")\n",
        "    print(f\"  Precisão:  {prec:.4f}\")\n",
        "    print(f\"  Recall:    {rec:.4f}\\n\")\n"
      ]
    },
    {
      "cell_type": "markdown",
      "metadata": {
        "id": "EoinaRJeXFC5"
      },
      "source": [
        "## Questão 10\n",
        "\n",
        "Plote agora a matrix de confusão para cada um dos modelos, utilizando os dados de validação e diga qual dos modelos escolheria para botar em produção e porque. Por fim, plote a matrix de confusão para o resultado no conjunto de teste do modelo que foi escolhido como o melhor e descorra brevemente sobre os resultados"
      ]
    },
    {
      "cell_type": "code",
      "execution_count": null,
      "metadata": {
        "colab": {
          "base_uri": "https://localhost:8080/",
          "height": 1000
        },
        "id": "D_4sbuI-R0IJ",
        "outputId": "0c12143c-cc7a-4b67-c514-4088ac846321"
      },
      "outputs": [
        {
          "data": {
            "image/png": "[encoded data removed]",
            "text/plain": [
              "<Figure size 640x480 with 2 Axes>"
            ]
          },
          "metadata": {},
          "output_type": "display_data"
        },
        {
          "name": "stdout",
          "output_type": "stream",
          "text": [
            "A alta acurácia sugere que o modelo está fazendo um bom trabalho ao prever a classe negativa, que tem muito mais casos.\n",
            "No entanto, a precisão e o recall da classe positiva estão bastante baixos, indicando que o modelo é menos eficaz \n",
            " em identificar casos positivos.\n"
          ]
        },
        {
          "data": {
            "image/png": "[encoded data removed]",
            "text/plain": [
              "<Figure size 640x480 with 2 Axes>"
            ]
          },
          "metadata": {},
          "output_type": "display_data"
        },
        {
          "name": "stdout",
          "output_type": "stream",
          "text": [
            "A acurácia é um pouco alta, mas tanto a precisão quanto o recall são baixos, indicando dificuldades em prever \n",
            " corretamente a classe positiva.\n",
            "Por ter o maior recall e entendendo que é crucial identificar os casos positivos, escolhemos o modelo de arvore \n",
            " de decisão como o melhor modelo para esse cenário. \n"
          ]
        },
        {
          "data": {
            "image/png": "[encoded data removed]",
            "text/plain": [
              "<Figure size 640x480 with 2 Axes>"
            ]
          },
          "metadata": {},
          "output_type": "display_data"
        },
        {
          "name": "stdout",
          "output_type": "stream",
          "text": [
            "A acurácia é boa e o modelo tem uma precisão razoável. Porém, o recall indica que muitos casos positivos são perdidos.\n"
          ]
        }
      ],
      "source": [
        "from sklearn.metrics import confusion_matrix\n",
        "import seaborn as sns\n",
        "\n",
        "def plot_confusion_matrix(model, X, y, model_name):\n",
        "    cm = confusion_matrix(y, model.predict(X))\n",
        "    sns.heatmap(cm, annot=True, fmt='d')\n",
        "    plt.title(f'Matriz de Confusão - {model_name}')\n",
        "    plt.ylabel('Real')\n",
        "    plt.xlabel('Previsto')\n",
        "    plt.show()\n",
        "\n",
        "plot_confusion_matrix(logreg_model, X_val, y_val, \"Regressão Logística\")\n",
        "print(\"A alta acurácia sugere que o modelo está fazendo um bom trabalho ao prever a classe negativa, que tem muito mais casos.\")\n",
        "print(\"No entanto, a precisão e o recall da classe positiva estão bastante baixos, indicando que o modelo é menos eficaz \\n em identificar casos positivos.\")\n",
        "plot_confusion_matrix(tree_model, X_val, y_val, \"Árvore de Decisão\")\n",
        "print(\"A acurácia é um pouco alta, mas tanto a precisão quanto o recall são baixos, indicando dificuldades em prever \\n corretamente a classe positiva.\")\n",
        "print(\"Por ter o maior recall e entendendo que é crucial identificar os casos positivos, escolhemos o modelo de arvore \\n de decisão como o melhor modelo para esse cenário. \")\n",
        "plot_confusion_matrix(rf_model, X_val, y_val, \"Random Forest\")\n",
        "print(\"A acurácia é boa e o modelo tem uma precisão razoável. Porém, o recall indica que muitos casos positivos são perdidos.\")"
      ]
    }
  ],
  "metadata": {
    "colab": {
      "provenance": []
    },
    "kernelspec": {
      "display_name": "Python 3",
      "name": "python3"
    },
    "language_info": {
      "name": "python"
    }
  },
  "nbformat": 4,
  "nbformat_minor": 0
}
