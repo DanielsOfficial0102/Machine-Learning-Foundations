{
  "cells": [
    {
      "cell_type": "markdown",
      "metadata": {
        "id": "xCydPufEWDCI"
      },
      "source": [
        "# Trabalho em grupo\n",
        "\n",
        "Instruções importantes:\n",
        "\n",
        "* Façam uma cópia deste notebook e **enviem o link** dele preenchido respondido no sistema.\n",
        "* O trabalho é para ser feito em grupo de 3 a 5 pessoas\n",
        "* Todas as respostas devem apresentar o código que foi utilizado. Com excessão da pergunta 10 que deve ser respondida por texto\n",
        "* A resposta deve ser contida no espaço abaixo da pergunta a que se refere e a cima das perguntas seguintes. **Organização importa**\n",
        "* Só uma pessoa do grupo deve enviar o trabalho e ao fazer isso listar quem são os integrantes do grupo.\n",
        "* Prazo para o trabalho está no sistema\n",
        "* Qualquer dúvida estou a disposição :D"
      ]
    },
    {
      "cell_type": "markdown",
      "metadata": {
        "id": "_iqBwn6vWH2l"
      },
      "source": [
        "## Primeiro passo\n",
        "\n",
        "Baixe o dataset com o comando a baixo"
      ]
    },
    {
      "cell_type": "code",
      "execution_count": 1,
      "metadata": {
        "colab": {
          "base_uri": "https://localhost:8080/"
        },
        "id": "mYQhxXlEVXVm",
        "outputId": "db6f8747-5e94-4d47-db49-7565a7a53cd3"
      },
      "outputs": [
        {
          "name": "stdout",
          "output_type": "stream",
          "text": [
            "--2025-03-21 17:12:23--  https://raw.githubusercontent.com/alexeygrigorev/datasets/master/laptops.csv\n",
            "Resolving raw.githubusercontent.com (raw.githubusercontent.com)... 185.199.108.133, 185.199.109.133, 185.199.110.133, ...\n",
            "Connecting to raw.githubusercontent.com (raw.githubusercontent.com)|185.199.108.133|:443... connected.\n",
            "HTTP request sent, awaiting response... 200 OK\n",
            "Length: 298573 (292K) [text/plain]\n",
            "Saving to: ‘laptops.csv’\n",
            "\n",
            "laptops.csv         100%[===================>] 291.58K  --.-KB/s    in 0.02s   \n",
            "\n",
            "2025-03-21 17:12:23 (11.4 MB/s) - ‘laptops.csv’ saved [298573/298573]\n",
            "\n"
          ]
        }
      ],
      "source": [
        "!wget https://raw.githubusercontent.com/alexeygrigorev/datasets/master/laptops.csv"
      ]
    },
    {
      "cell_type": "markdown",
      "metadata": {
        "id": "osfSGlhAWOcb"
      },
      "source": [
        "## Pergunta 1\n",
        "\n",
        "Qual a versão do pandas utilizada?"
      ]
    },
    {
      "cell_type": "code",
      "execution_count": 2,
      "metadata": {
        "colab": {
          "base_uri": "https://localhost:8080/"
        },
        "id": "KrlXU1epV566",
        "outputId": "82d61abe-f6c6-4a6f-aeb9-7dc7fc5140db"
      },
      "outputs": [
        {
          "name": "stdout",
          "output_type": "stream",
          "text": [
            "2.2.2\n"
          ]
        }
      ],
      "source": [
        "#Primeiro precisamos importar o Pandas\n",
        "import pandas as pd\n",
        "\n",
        "#Verificação de Versão\n",
        "print(pd.__version__)\n"
      ]
    },
    {
      "cell_type": "markdown",
      "metadata": {
        "id": "oEEmi40vYlVo"
      },
      "source": [
        "## Pergunta 2\n",
        "\n",
        "Como utilizar pandas para importar (ler) o arquivo csv que foi baixado?"
      ]
    },
    {
      "cell_type": "code",
      "execution_count": 35,
      "metadata": {
        "colab": {
          "base_uri": "https://localhost:8080/",
          "height": 206
        },
        "id": "1cgbaMhdYsCs",
        "outputId": "e36ecb83-5c50-4c9d-ce7b-5d6b1130d375"
      },
      "outputs": [
        {
          "data": {
            "application/vnd.google.colaboratory.intrinsic+json": {
              "summary": "{\n  \"name\": \"df\",\n  \"rows\": 2160,\n  \"fields\": [\n    {\n      \"column\": \"Laptop\",\n      \"properties\": {\n        \"dtype\": \"string\",\n        \"num_unique_values\": 2160,\n        \"samples\": [\n          \"MSI Modern 15 A11SBU-620XES Intel Core i7-1165G7/32GB/1TB SSD/MX450/15.6\\\"\",\n          \"Thomson Neo White Intel Celeron N4020/4GB/64GB eMMC/14.1\\\"\",\n          \"MSI Modern 14 B11SB-420XES Intel Core i7-1165G7/32GB/1TB SSD/MX450/14\\\"\"\n        ],\n        \"semantic_type\": \"\",\n        \"description\": \"\"\n      }\n    },\n    {\n      \"column\": \"Status\",\n      \"properties\": {\n        \"dtype\": \"category\",\n        \"num_unique_values\": 2,\n        \"samples\": [\n          \"Refurbished\",\n          \"New\"\n        ],\n        \"semantic_type\": \"\",\n        \"description\": \"\"\n      }\n    },\n    {\n      \"column\": \"Brand\",\n      \"properties\": {\n        \"dtype\": \"category\",\n        \"num_unique_values\": 27,\n        \"samples\": [\n          \"Razer\",\n          \"PcCom\"\n        ],\n        \"semantic_type\": \"\",\n        \"description\": \"\"\n      }\n    },\n    {\n      \"column\": \"Model\",\n      \"properties\": {\n        \"dtype\": \"category\",\n        \"num_unique_values\": 121,\n        \"samples\": [\n          \"Aero\",\n          \"Erazer\"\n        ],\n        \"semantic_type\": \"\",\n        \"description\": \"\"\n      }\n    },\n    {\n      \"column\": \"CPU\",\n      \"properties\": {\n        \"dtype\": \"category\",\n        \"num_unique_values\": 28,\n        \"samples\": [\n          \"Apple M2\",\n          \"AMD 3015Ce\"\n        ],\n        \"semantic_type\": \"\",\n        \"description\": \"\"\n      }\n    },\n    {\n      \"column\": \"RAM\",\n      \"properties\": {\n        \"dtype\": \"number\",\n        \"std\": 9,\n        \"min\": 4,\n        \"max\": 128,\n        \"num_unique_values\": 9,\n        \"samples\": [\n          6,\n          16\n        ],\n        \"semantic_type\": \"\",\n        \"description\": \"\"\n      }\n    },\n    {\n      \"column\": \"Storage\",\n      \"properties\": {\n        \"dtype\": \"number\",\n        \"std\": 361,\n        \"min\": 0,\n        \"max\": 4000,\n        \"num_unique_values\": 12,\n        \"samples\": [\n          3000,\n          4000\n        ],\n        \"semantic_type\": \"\",\n        \"description\": \"\"\n      }\n    },\n    {\n      \"column\": \"Storage type\",\n      \"properties\": {\n        \"dtype\": \"category\",\n        \"num_unique_values\": 2,\n        \"samples\": [\n          \"eMMC\",\n          \"SSD\"\n        ],\n        \"semantic_type\": \"\",\n        \"description\": \"\"\n      }\n    },\n    {\n      \"column\": \"GPU\",\n      \"properties\": {\n        \"dtype\": \"category\",\n        \"num_unique_values\": 44,\n        \"samples\": [\n          \"RTX 2080\",\n          \"Radeon Pro 5500M\"\n        ],\n        \"semantic_type\": \"\",\n        \"description\": \"\"\n      }\n    },\n    {\n      \"column\": \"Screen\",\n      \"properties\": {\n        \"dtype\": \"number\",\n        \"std\": 1.203328758328451,\n        \"min\": 10.1,\n        \"max\": 18.0,\n        \"num_unique_values\": 29,\n        \"samples\": [\n          12.0,\n          16.2\n        ],\n        \"semantic_type\": \"\",\n        \"description\": \"\"\n      }\n    },\n    {\n      \"column\": \"Touch\",\n      \"properties\": {\n        \"dtype\": \"category\",\n        \"num_unique_values\": 2,\n        \"samples\": [\n          \"Yes\",\n          \"No\"\n        ],\n        \"semantic_type\": \"\",\n        \"description\": \"\"\n      }\n    },\n    {\n      \"column\": \"Final Price\",\n      \"properties\": {\n        \"dtype\": \"number\",\n        \"std\": 911.4754170328499,\n        \"min\": 201.05,\n        \"max\": 7150.47,\n        \"num_unique_values\": 1440,\n        \"samples\": [\n          3599.0,\n          1799.9\n        ],\n        \"semantic_type\": \"\",\n        \"description\": \"\"\n      }\n    }\n  ]\n}",
              "type": "dataframe",
              "variable_name": "df"
            },
            "text/html": [
              "\n",
              "  <div id=\"df-c93f05a9-5777-4427-9509-1237c46b3155\" class=\"colab-df-container\">\n",
              "    <div>\n",
              "<style scoped>\n",
              "    .dataframe tbody tr th:only-of-type {\n",
              "        vertical-align: middle;\n",
              "    }\n",
              "\n",
              "    .dataframe tbody tr th {\n",
              "        vertical-align: top;\n",
              "    }\n",
              "\n",
              "    .dataframe thead th {\n",
              "        text-align: right;\n",
              "    }\n",
              "</style>\n",
              "<table border=\"1\" class=\"dataframe\">\n",
              "  <thead>\n",
              "    <tr style=\"text-align: right;\">\n",
              "      <th></th>\n",
              "      <th>Laptop</th>\n",
              "      <th>Status</th>\n",
              "      <th>Brand</th>\n",
              "      <th>Model</th>\n",
              "      <th>CPU</th>\n",
              "      <th>RAM</th>\n",
              "      <th>Storage</th>\n",
              "      <th>Storage type</th>\n",
              "      <th>GPU</th>\n",
              "      <th>Screen</th>\n",
              "      <th>Touch</th>\n",
              "      <th>Final Price</th>\n",
              "    </tr>\n",
              "  </thead>\n",
              "  <tbody>\n",
              "    <tr>\n",
              "      <th>0</th>\n",
              "      <td>ASUS ExpertBook B1 B1502CBA-EJ0436X Intel Core...</td>\n",
              "      <td>New</td>\n",
              "      <td>Asus</td>\n",
              "      <td>ExpertBook</td>\n",
              "      <td>Intel Core i5</td>\n",
              "      <td>8</td>\n",
              "      <td>512</td>\n",
              "      <td>SSD</td>\n",
              "      <td>NaN</td>\n",
              "      <td>15.6</td>\n",
              "      <td>No</td>\n",
              "      <td>1009.00</td>\n",
              "    </tr>\n",
              "    <tr>\n",
              "      <th>1</th>\n",
              "      <td>Alurin Go Start Intel Celeron N4020/8GB/256GB ...</td>\n",
              "      <td>New</td>\n",
              "      <td>Alurin</td>\n",
              "      <td>Go</td>\n",
              "      <td>Intel Celeron</td>\n",
              "      <td>8</td>\n",
              "      <td>256</td>\n",
              "      <td>SSD</td>\n",
              "      <td>NaN</td>\n",
              "      <td>15.6</td>\n",
              "      <td>No</td>\n",
              "      <td>299.00</td>\n",
              "    </tr>\n",
              "    <tr>\n",
              "      <th>2</th>\n",
              "      <td>ASUS ExpertBook B1 B1502CBA-EJ0424X Intel Core...</td>\n",
              "      <td>New</td>\n",
              "      <td>Asus</td>\n",
              "      <td>ExpertBook</td>\n",
              "      <td>Intel Core i3</td>\n",
              "      <td>8</td>\n",
              "      <td>256</td>\n",
              "      <td>SSD</td>\n",
              "      <td>NaN</td>\n",
              "      <td>15.6</td>\n",
              "      <td>No</td>\n",
              "      <td>789.00</td>\n",
              "    </tr>\n",
              "    <tr>\n",
              "      <th>3</th>\n",
              "      <td>MSI Katana GF66 12UC-082XES Intel Core i7-1270...</td>\n",
              "      <td>New</td>\n",
              "      <td>MSI</td>\n",
              "      <td>Katana</td>\n",
              "      <td>Intel Core i7</td>\n",
              "      <td>16</td>\n",
              "      <td>1000</td>\n",
              "      <td>SSD</td>\n",
              "      <td>RTX 3050</td>\n",
              "      <td>15.6</td>\n",
              "      <td>No</td>\n",
              "      <td>1199.00</td>\n",
              "    </tr>\n",
              "    <tr>\n",
              "      <th>4</th>\n",
              "      <td>HP 15S-FQ5085NS Intel Core i5-1235U/16GB/512GB...</td>\n",
              "      <td>New</td>\n",
              "      <td>HP</td>\n",
              "      <td>15S</td>\n",
              "      <td>Intel Core i5</td>\n",
              "      <td>16</td>\n",
              "      <td>512</td>\n",
              "      <td>SSD</td>\n",
              "      <td>NaN</td>\n",
              "      <td>15.6</td>\n",
              "      <td>No</td>\n",
              "      <td>669.01</td>\n",
              "    </tr>\n",
              "  </tbody>\n",
              "</table>\n",
              "</div>\n",
              "    <div class=\"colab-df-buttons\">\n",
              "\n",
              "  <div class=\"colab-df-container\">\n",
              "    <button class=\"colab-df-convert\" onclick=\"convertToInteractive('df-c93f05a9-5777-4427-9509-1237c46b3155')\"\n",
              "            title=\"Convert this dataframe to an interactive table.\"\n",
              "            style=\"display:none;\">\n",
              "\n",
              "  <svg xmlns=\"http://www.w3.org/2000/svg\" height=\"24px\" viewBox=\"0 -960 960 960\">\n",
              "    <path d=\"M120-120v-720h720v720H120Zm60-500h600v-160H180v160Zm220 220h160v-160H400v160Zm0 220h160v-160H400v160ZM180-400h160v-160H180v160Zm440 0h160v-160H620v160ZM180-180h160v-160H180v160Zm440 0h160v-160H620v160Z\"/>\n",
              "  </svg>\n",
              "    </button>\n",
              "\n",
              "  <style>\n",
              "    .colab-df-container {\n",
              "      display:flex;\n",
              "      gap: 12px;\n",
              "    }\n",
              "\n",
              "    .colab-df-convert {\n",
              "      background-color: #E8F0FE;\n",
              "      border: none;\n",
              "      border-radius: 50%;\n",
              "      cursor: pointer;\n",
              "      display: none;\n",
              "      fill: #1967D2;\n",
              "      height: 32px;\n",
              "      padding: 0 0 0 0;\n",
              "      width: 32px;\n",
              "    }\n",
              "\n",
              "    .colab-df-convert:hover {\n",
              "      background-color: #E2EBFA;\n",
              "      box-shadow: 0px 1px 2px rgba(60, 64, 67, 0.3), 0px 1px 3px 1px rgba(60, 64, 67, 0.15);\n",
              "      fill: #174EA6;\n",
              "    }\n",
              "\n",
              "    .colab-df-buttons div {\n",
              "      margin-bottom: 4px;\n",
              "    }\n",
              "\n",
              "    [theme=dark] .colab-df-convert {\n",
              "      background-color: #3B4455;\n",
              "      fill: #D2E3FC;\n",
              "    }\n",
              "\n",
              "    [theme=dark] .colab-df-convert:hover {\n",
              "      background-color: #434B5C;\n",
              "      box-shadow: 0px 1px 3px 1px rgba(0, 0, 0, 0.15);\n",
              "      filter: drop-shadow(0px 1px 2px rgba(0, 0, 0, 0.3));\n",
              "      fill: #FFFFFF;\n",
              "    }\n",
              "  </style>\n",
              "\n",
              "    <script>\n",
              "      const buttonEl =\n",
              "        document.querySelector('#df-c93f05a9-5777-4427-9509-1237c46b3155 button.colab-df-convert');\n",
              "      buttonEl.style.display =\n",
              "        google.colab.kernel.accessAllowed ? 'block' : 'none';\n",
              "\n",
              "      async function convertToInteractive(key) {\n",
              "        const element = document.querySelector('#df-c93f05a9-5777-4427-9509-1237c46b3155');\n",
              "        const dataTable =\n",
              "          await google.colab.kernel.invokeFunction('convertToInteractive',\n",
              "                                                    [key], {});\n",
              "        if (!dataTable) return;\n",
              "\n",
              "        const docLinkHtml = 'Like what you see? Visit the ' +\n",
              "          '<a target=\"_blank\" href=https://colab.research.google.com/notebooks/data_table.ipynb>data table notebook</a>'\n",
              "          + ' to learn more about interactive tables.';\n",
              "        element.innerHTML = '';\n",
              "        dataTable['output_type'] = 'display_data';\n",
              "        await google.colab.output.renderOutput(dataTable, element);\n",
              "        const docLink = document.createElement('div');\n",
              "        docLink.innerHTML = docLinkHtml;\n",
              "        element.appendChild(docLink);\n",
              "      }\n",
              "    </script>\n",
              "  </div>\n",
              "\n",
              "\n",
              "<div id=\"df-257d60cb-7a9c-4ccb-8a69-08bf8c0ca850\">\n",
              "  <button class=\"colab-df-quickchart\" onclick=\"quickchart('df-257d60cb-7a9c-4ccb-8a69-08bf8c0ca850')\"\n",
              "            title=\"Suggest charts\"\n",
              "            style=\"display:none;\">\n",
              "\n",
              "<svg xmlns=\"http://www.w3.org/2000/svg\" height=\"24px\"viewBox=\"0 0 24 24\"\n",
              "     width=\"24px\">\n",
              "    <g>\n",
              "        <path d=\"M19 3H5c-1.1 0-2 .9-2 2v14c0 1.1.9 2 2 2h14c1.1 0 2-.9 2-2V5c0-1.1-.9-2-2-2zM9 17H7v-7h2v7zm4 0h-2V7h2v10zm4 0h-2v-4h2v4z\"/>\n",
              "    </g>\n",
              "</svg>\n",
              "  </button>\n",
              "\n",
              "<style>\n",
              "  .colab-df-quickchart {\n",
              "      --bg-color: #E8F0FE;\n",
              "      --fill-color: #1967D2;\n",
              "      --hover-bg-color: #E2EBFA;\n",
              "      --hover-fill-color: #174EA6;\n",
              "      --disabled-fill-color: #AAA;\n",
              "      --disabled-bg-color: #DDD;\n",
              "  }\n",
              "\n",
              "  [theme=dark] .colab-df-quickchart {\n",
              "      --bg-color: #3B4455;\n",
              "      --fill-color: #D2E3FC;\n",
              "      --hover-bg-color: #434B5C;\n",
              "      --hover-fill-color: #FFFFFF;\n",
              "      --disabled-bg-color: #3B4455;\n",
              "      --disabled-fill-color: #666;\n",
              "  }\n",
              "\n",
              "  .colab-df-quickchart {\n",
              "    background-color: var(--bg-color);\n",
              "    border: none;\n",
              "    border-radius: 50%;\n",
              "    cursor: pointer;\n",
              "    display: none;\n",
              "    fill: var(--fill-color);\n",
              "    height: 32px;\n",
              "    padding: 0;\n",
              "    width: 32px;\n",
              "  }\n",
              "\n",
              "  .colab-df-quickchart:hover {\n",
              "    background-color: var(--hover-bg-color);\n",
              "    box-shadow: 0 1px 2px rgba(60, 64, 67, 0.3), 0 1px 3px 1px rgba(60, 64, 67, 0.15);\n",
              "    fill: var(--button-hover-fill-color);\n",
              "  }\n",
              "\n",
              "  .colab-df-quickchart-complete:disabled,\n",
              "  .colab-df-quickchart-complete:disabled:hover {\n",
              "    background-color: var(--disabled-bg-color);\n",
              "    fill: var(--disabled-fill-color);\n",
              "    box-shadow: none;\n",
              "  }\n",
              "\n",
              "  .colab-df-spinner {\n",
              "    border: 2px solid var(--fill-color);\n",
              "    border-color: transparent;\n",
              "    border-bottom-color: var(--fill-color);\n",
              "    animation:\n",
              "      spin 1s steps(1) infinite;\n",
              "  }\n",
              "\n",
              "  @keyframes spin {\n",
              "    0% {\n",
              "      border-color: transparent;\n",
              "      border-bottom-color: var(--fill-color);\n",
              "      border-left-color: var(--fill-color);\n",
              "    }\n",
              "    20% {\n",
              "      border-color: transparent;\n",
              "      border-left-color: var(--fill-color);\n",
              "      border-top-color: var(--fill-color);\n",
              "    }\n",
              "    30% {\n",
              "      border-color: transparent;\n",
              "      border-left-color: var(--fill-color);\n",
              "      border-top-color: var(--fill-color);\n",
              "      border-right-color: var(--fill-color);\n",
              "    }\n",
              "    40% {\n",
              "      border-color: transparent;\n",
              "      border-right-color: var(--fill-color);\n",
              "      border-top-color: var(--fill-color);\n",
              "    }\n",
              "    60% {\n",
              "      border-color: transparent;\n",
              "      border-right-color: var(--fill-color);\n",
              "    }\n",
              "    80% {\n",
              "      border-color: transparent;\n",
              "      border-right-color: var(--fill-color);\n",
              "      border-bottom-color: var(--fill-color);\n",
              "    }\n",
              "    90% {\n",
              "      border-color: transparent;\n",
              "      border-bottom-color: var(--fill-color);\n",
              "    }\n",
              "  }\n",
              "</style>\n",
              "\n",
              "  <script>\n",
              "    async function quickchart(key) {\n",
              "      const quickchartButtonEl =\n",
              "        document.querySelector('#' + key + ' button');\n",
              "      quickchartButtonEl.disabled = true;  // To prevent multiple clicks.\n",
              "      quickchartButtonEl.classList.add('colab-df-spinner');\n",
              "      try {\n",
              "        const charts = await google.colab.kernel.invokeFunction(\n",
              "            'suggestCharts', [key], {});\n",
              "      } catch (error) {\n",
              "        console.error('Error during call to suggestCharts:', error);\n",
              "      }\n",
              "      quickchartButtonEl.classList.remove('colab-df-spinner');\n",
              "      quickchartButtonEl.classList.add('colab-df-quickchart-complete');\n",
              "    }\n",
              "    (() => {\n",
              "      let quickchartButtonEl =\n",
              "        document.querySelector('#df-257d60cb-7a9c-4ccb-8a69-08bf8c0ca850 button');\n",
              "      quickchartButtonEl.style.display =\n",
              "        google.colab.kernel.accessAllowed ? 'block' : 'none';\n",
              "    })();\n",
              "  </script>\n",
              "</div>\n",
              "\n",
              "    </div>\n",
              "  </div>\n"
            ],
            "text/plain": [
              "                                              Laptop Status   Brand  \\\n",
              "0  ASUS ExpertBook B1 B1502CBA-EJ0436X Intel Core...    New    Asus   \n",
              "1  Alurin Go Start Intel Celeron N4020/8GB/256GB ...    New  Alurin   \n",
              "2  ASUS ExpertBook B1 B1502CBA-EJ0424X Intel Core...    New    Asus   \n",
              "3  MSI Katana GF66 12UC-082XES Intel Core i7-1270...    New     MSI   \n",
              "4  HP 15S-FQ5085NS Intel Core i5-1235U/16GB/512GB...    New      HP   \n",
              "\n",
              "        Model            CPU  RAM  Storage Storage type       GPU  Screen  \\\n",
              "0  ExpertBook  Intel Core i5    8      512          SSD       NaN    15.6   \n",
              "1          Go  Intel Celeron    8      256          SSD       NaN    15.6   \n",
              "2  ExpertBook  Intel Core i3    8      256          SSD       NaN    15.6   \n",
              "3      Katana  Intel Core i7   16     1000          SSD  RTX 3050    15.6   \n",
              "4         15S  Intel Core i5   16      512          SSD       NaN    15.6   \n",
              "\n",
              "  Touch  Final Price  \n",
              "0    No      1009.00  \n",
              "1    No       299.00  \n",
              "2    No       789.00  \n",
              "3    No      1199.00  \n",
              "4    No       669.01  "
            ]
          },
          "execution_count": 35,
          "metadata": {},
          "output_type": "execute_result"
        }
      ],
      "source": [
        "#Ppodemos simplesmente colocar o nome do arquivo se ele estiver na mesma Pasta\n",
        "df = pd.read_csv(\"https://raw.githubusercontent.com/alexeygrigorev/datasets/master/laptops.csv\")\n",
        "\n",
        "#Exibir as primeiras linhas do DataFrame\n",
        "df.head()"
      ]
    },
    {
      "cell_type": "markdown",
      "metadata": {
        "id": "60yvJ8jIWVmJ"
      },
      "source": [
        "## Pergunta 3\n",
        "\n",
        "Quantos elementos tem no dataset?"
      ]
    },
    {
      "cell_type": "code",
      "execution_count": 13,
      "metadata": {
        "colab": {
          "base_uri": "https://localhost:8080/"
        },
        "id": "ImE8k7NeWam8",
        "outputId": "f9ae63e5-91e8-4b41-9557-8a118574e11f"
      },
      "outputs": [
        {
          "name": "stdout",
          "output_type": "stream",
          "text": [
            "(2160, 12)\n"
          ]
        }
      ],
      "source": [
        "#Existe algumas formas de fazer isso, Geralmente eu ultilizo o \"Df.Info\" mas pode se ultilizar algumas outras opções como por exemplo \"Describe\" etc...\n",
        "print(df.shape)"
      ]
    },
    {
      "cell_type": "markdown",
      "metadata": {
        "id": "awGqlG0iWhuM"
      },
      "source": [
        "## Pergunta 4\n",
        "\n",
        "Quantas marcas de laptop existem no dataset?"
      ]
    },
    {
      "cell_type": "code",
      "execution_count": 24,
      "metadata": {
        "colab": {
          "base_uri": "https://localhost:8080/"
        },
        "id": "NcoHCg5uWmx2",
        "outputId": "c20390b5-8519-489b-8419-6bd27f5c7967"
      },
      "outputs": [
        {
          "data": {
            "text/plain": [
              "array(['Asus', 'Alurin', 'MSI', 'HP', 'Lenovo', 'Medion', 'Acer', 'Apple',\n",
              "       'Razer', 'Gigabyte', 'Dell', 'LG', 'Samsung', 'PcCom', 'Microsoft',\n",
              "       'Primux', 'Prixton', 'Dynabook Toshiba', 'Thomson', 'Denver',\n",
              "       'Deep Gaming', 'Vant', 'Innjoo', 'Jetwing', 'Millenium', 'Realme',\n",
              "       'Toshiba'], dtype=object)"
            ]
          },
          "execution_count": 24,
          "metadata": {},
          "output_type": "execute_result"
        }
      ],
      "source": [
        "#Eu poderia puxar apenas o Dataframe para puxar a Coluna \"Brand\", Mas ultilizando o Unique ele me fala apenas os sem ter repetido\n",
        "df[\"Brand\"].unique()"
      ]
    },
    {
      "cell_type": "markdown",
      "metadata": {
        "id": "zhbHRFlcWp7G"
      },
      "source": [
        "## Pergunta 5\n",
        "\n",
        "Quantas colunas no dataset tem valores faltantes (nulos)?"
      ]
    },
    {
      "cell_type": "code",
      "execution_count": 27,
      "metadata": {
        "colab": {
          "base_uri": "https://localhost:8080/",
          "height": 460
        },
        "id": "RNkg7ls9Wufd",
        "outputId": "5d936517-8936-4532-d6b5-f34cc7f2b6a1"
      },
      "outputs": [
        {
          "data": {
            "text/html": [
              "<div>\n",
              "<style scoped>\n",
              "    .dataframe tbody tr th:only-of-type {\n",
              "        vertical-align: middle;\n",
              "    }\n",
              "\n",
              "    .dataframe tbody tr th {\n",
              "        vertical-align: top;\n",
              "    }\n",
              "\n",
              "    .dataframe thead th {\n",
              "        text-align: right;\n",
              "    }\n",
              "</style>\n",
              "<table border=\"1\" class=\"dataframe\">\n",
              "  <thead>\n",
              "    <tr style=\"text-align: right;\">\n",
              "      <th></th>\n",
              "      <th>0</th>\n",
              "    </tr>\n",
              "  </thead>\n",
              "  <tbody>\n",
              "    <tr>\n",
              "      <th>Laptop</th>\n",
              "      <td>0</td>\n",
              "    </tr>\n",
              "    <tr>\n",
              "      <th>Status</th>\n",
              "      <td>0</td>\n",
              "    </tr>\n",
              "    <tr>\n",
              "      <th>Brand</th>\n",
              "      <td>0</td>\n",
              "    </tr>\n",
              "    <tr>\n",
              "      <th>Model</th>\n",
              "      <td>0</td>\n",
              "    </tr>\n",
              "    <tr>\n",
              "      <th>CPU</th>\n",
              "      <td>0</td>\n",
              "    </tr>\n",
              "    <tr>\n",
              "      <th>RAM</th>\n",
              "      <td>0</td>\n",
              "    </tr>\n",
              "    <tr>\n",
              "      <th>Storage</th>\n",
              "      <td>0</td>\n",
              "    </tr>\n",
              "    <tr>\n",
              "      <th>Storage type</th>\n",
              "      <td>42</td>\n",
              "    </tr>\n",
              "    <tr>\n",
              "      <th>GPU</th>\n",
              "      <td>1371</td>\n",
              "    </tr>\n",
              "    <tr>\n",
              "      <th>Screen</th>\n",
              "      <td>4</td>\n",
              "    </tr>\n",
              "    <tr>\n",
              "      <th>Touch</th>\n",
              "      <td>0</td>\n",
              "    </tr>\n",
              "    <tr>\n",
              "      <th>Final Price</th>\n",
              "      <td>0</td>\n",
              "    </tr>\n",
              "  </tbody>\n",
              "</table>\n",
              "</div><br><label><b>dtype:</b> int64</label>"
            ],
            "text/plain": [
              "Laptop             0\n",
              "Status             0\n",
              "Brand              0\n",
              "Model              0\n",
              "CPU                0\n",
              "RAM                0\n",
              "Storage            0\n",
              "Storage type      42\n",
              "GPU             1371\n",
              "Screen             4\n",
              "Touch              0\n",
              "Final Price        0\n",
              "dtype: int64"
            ]
          },
          "execution_count": 27,
          "metadata": {},
          "output_type": "execute_result"
        }
      ],
      "source": [
        "#Chamo o Dataframe ultilizando o Isnull (é nulo) + some quantos Deu\n",
        "df.isnull().sum()"
      ]
    },
    {
      "cell_type": "markdown",
      "metadata": {
        "id": "_NNk9YjGWvAz"
      },
      "source": [
        "## Pergunta 6\n",
        "\n",
        "Qual o maior preço final dos notebooks da Dell nesse dataset"
      ]
    },
    {
      "cell_type": "code",
      "execution_count": 34,
      "metadata": {
        "colab": {
          "base_uri": "https://localhost:8080/",
          "height": 89
        },
        "id": "BAvlOZYqW27W",
        "outputId": "9e157dea-d4ac-4c68-ad95-865bd8307961"
      },
      "outputs": [
        {
          "data": {
            "application/vnd.google.colaboratory.intrinsic+json": {
              "summary": "{\n  \"name\": \"notebook_mais_caro\",\n  \"rows\": 1,\n  \"fields\": [\n    {\n      \"column\": \"Laptop\",\n      \"properties\": {\n        \"dtype\": \"string\",\n        \"num_unique_values\": 1,\n        \"samples\": [\n          \"Dell Precision 5770 Intel Core i7-12700H/16GB/512GB SSD/RTX A2000/17\\\" T\\u00e1ctil\"\n        ],\n        \"semantic_type\": \"\",\n        \"description\": \"\"\n      }\n    },\n    {\n      \"column\": \"Status\",\n      \"properties\": {\n        \"dtype\": \"string\",\n        \"num_unique_values\": 1,\n        \"samples\": [\n          \"New\"\n        ],\n        \"semantic_type\": \"\",\n        \"description\": \"\"\n      }\n    },\n    {\n      \"column\": \"Brand\",\n      \"properties\": {\n        \"dtype\": \"string\",\n        \"num_unique_values\": 1,\n        \"samples\": [\n          \"Dell\"\n        ],\n        \"semantic_type\": \"\",\n        \"description\": \"\"\n      }\n    },\n    {\n      \"column\": \"Model\",\n      \"properties\": {\n        \"dtype\": \"string\",\n        \"num_unique_values\": 1,\n        \"samples\": [\n          \"Precision\"\n        ],\n        \"semantic_type\": \"\",\n        \"description\": \"\"\n      }\n    },\n    {\n      \"column\": \"CPU\",\n      \"properties\": {\n        \"dtype\": \"string\",\n        \"num_unique_values\": 1,\n        \"samples\": [\n          \"Intel Core i7\"\n        ],\n        \"semantic_type\": \"\",\n        \"description\": \"\"\n      }\n    },\n    {\n      \"column\": \"RAM\",\n      \"properties\": {\n        \"dtype\": \"number\",\n        \"std\": null,\n        \"min\": 16,\n        \"max\": 16,\n        \"num_unique_values\": 1,\n        \"samples\": [\n          16\n        ],\n        \"semantic_type\": \"\",\n        \"description\": \"\"\n      }\n    },\n    {\n      \"column\": \"Storage\",\n      \"properties\": {\n        \"dtype\": \"number\",\n        \"std\": null,\n        \"min\": 512,\n        \"max\": 512,\n        \"num_unique_values\": 1,\n        \"samples\": [\n          512\n        ],\n        \"semantic_type\": \"\",\n        \"description\": \"\"\n      }\n    },\n    {\n      \"column\": \"Storage type\",\n      \"properties\": {\n        \"dtype\": \"string\",\n        \"num_unique_values\": 1,\n        \"samples\": [\n          \"SSD\"\n        ],\n        \"semantic_type\": \"\",\n        \"description\": \"\"\n      }\n    },\n    {\n      \"column\": \"GPU\",\n      \"properties\": {\n        \"dtype\": \"string\",\n        \"num_unique_values\": 1,\n        \"samples\": [\n          \"RTX A2000\"\n        ],\n        \"semantic_type\": \"\",\n        \"description\": \"\"\n      }\n    },\n    {\n      \"column\": \"Screen\",\n      \"properties\": {\n        \"dtype\": \"number\",\n        \"std\": null,\n        \"min\": 17.0,\n        \"max\": 17.0,\n        \"num_unique_values\": 1,\n        \"samples\": [\n          17.0\n        ],\n        \"semantic_type\": \"\",\n        \"description\": \"\"\n      }\n    },\n    {\n      \"column\": \"Touch\",\n      \"properties\": {\n        \"dtype\": \"string\",\n        \"num_unique_values\": 1,\n        \"samples\": [\n          \"Yes\"\n        ],\n        \"semantic_type\": \"\",\n        \"description\": \"\"\n      }\n    },\n    {\n      \"column\": \"Final Price\",\n      \"properties\": {\n        \"dtype\": \"number\",\n        \"std\": null,\n        \"min\": 3936.0,\n        \"max\": 3936.0,\n        \"num_unique_values\": 1,\n        \"samples\": [\n          3936.0\n        ],\n        \"semantic_type\": \"\",\n        \"description\": \"\"\n      }\n    }\n  ]\n}",
              "type": "dataframe",
              "variable_name": "notebook_mais_caro"
            },
            "text/html": [
              "\n",
              "  <div id=\"df-3e6588af-1c72-4b68-8052-da91972dc57a\" class=\"colab-df-container\">\n",
              "    <div>\n",
              "<style scoped>\n",
              "    .dataframe tbody tr th:only-of-type {\n",
              "        vertical-align: middle;\n",
              "    }\n",
              "\n",
              "    .dataframe tbody tr th {\n",
              "        vertical-align: top;\n",
              "    }\n",
              "\n",
              "    .dataframe thead th {\n",
              "        text-align: right;\n",
              "    }\n",
              "</style>\n",
              "<table border=\"1\" class=\"dataframe\">\n",
              "  <thead>\n",
              "    <tr style=\"text-align: right;\">\n",
              "      <th></th>\n",
              "      <th>Laptop</th>\n",
              "      <th>Status</th>\n",
              "      <th>Brand</th>\n",
              "      <th>Model</th>\n",
              "      <th>CPU</th>\n",
              "      <th>RAM</th>\n",
              "      <th>Storage</th>\n",
              "      <th>Storage type</th>\n",
              "      <th>GPU</th>\n",
              "      <th>Screen</th>\n",
              "      <th>Touch</th>\n",
              "      <th>Final Price</th>\n",
              "    </tr>\n",
              "  </thead>\n",
              "  <tbody>\n",
              "    <tr>\n",
              "      <th>1335</th>\n",
              "      <td>Dell Precision 5770 Intel Core i7-12700H/16GB/...</td>\n",
              "      <td>New</td>\n",
              "      <td>Dell</td>\n",
              "      <td>Precision</td>\n",
              "      <td>Intel Core i7</td>\n",
              "      <td>16</td>\n",
              "      <td>512</td>\n",
              "      <td>SSD</td>\n",
              "      <td>RTX A2000</td>\n",
              "      <td>17.0</td>\n",
              "      <td>Yes</td>\n",
              "      <td>3936.0</td>\n",
              "    </tr>\n",
              "  </tbody>\n",
              "</table>\n",
              "</div>\n",
              "    <div class=\"colab-df-buttons\">\n",
              "\n",
              "  <div class=\"colab-df-container\">\n",
              "    <button class=\"colab-df-convert\" onclick=\"convertToInteractive('df-3e6588af-1c72-4b68-8052-da91972dc57a')\"\n",
              "            title=\"Convert this dataframe to an interactive table.\"\n",
              "            style=\"display:none;\">\n",
              "\n",
              "  <svg xmlns=\"http://www.w3.org/2000/svg\" height=\"24px\" viewBox=\"0 -960 960 960\">\n",
              "    <path d=\"M120-120v-720h720v720H120Zm60-500h600v-160H180v160Zm220 220h160v-160H400v160Zm0 220h160v-160H400v160ZM180-400h160v-160H180v160Zm440 0h160v-160H620v160ZM180-180h160v-160H180v160Zm440 0h160v-160H620v160Z\"/>\n",
              "  </svg>\n",
              "    </button>\n",
              "\n",
              "  <style>\n",
              "    .colab-df-container {\n",
              "      display:flex;\n",
              "      gap: 12px;\n",
              "    }\n",
              "\n",
              "    .colab-df-convert {\n",
              "      background-color: #E8F0FE;\n",
              "      border: none;\n",
              "      border-radius: 50%;\n",
              "      cursor: pointer;\n",
              "      display: none;\n",
              "      fill: #1967D2;\n",
              "      height: 32px;\n",
              "      padding: 0 0 0 0;\n",
              "      width: 32px;\n",
              "    }\n",
              "\n",
              "    .colab-df-convert:hover {\n",
              "      background-color: #E2EBFA;\n",
              "      box-shadow: 0px 1px 2px rgba(60, 64, 67, 0.3), 0px 1px 3px 1px rgba(60, 64, 67, 0.15);\n",
              "      fill: #174EA6;\n",
              "    }\n",
              "\n",
              "    .colab-df-buttons div {\n",
              "      margin-bottom: 4px;\n",
              "    }\n",
              "\n",
              "    [theme=dark] .colab-df-convert {\n",
              "      background-color: #3B4455;\n",
              "      fill: #D2E3FC;\n",
              "    }\n",
              "\n",
              "    [theme=dark] .colab-df-convert:hover {\n",
              "      background-color: #434B5C;\n",
              "      box-shadow: 0px 1px 3px 1px rgba(0, 0, 0, 0.15);\n",
              "      filter: drop-shadow(0px 1px 2px rgba(0, 0, 0, 0.3));\n",
              "      fill: #FFFFFF;\n",
              "    }\n",
              "  </style>\n",
              "\n",
              "    <script>\n",
              "      const buttonEl =\n",
              "        document.querySelector('#df-3e6588af-1c72-4b68-8052-da91972dc57a button.colab-df-convert');\n",
              "      buttonEl.style.display =\n",
              "        google.colab.kernel.accessAllowed ? 'block' : 'none';\n",
              "\n",
              "      async function convertToInteractive(key) {\n",
              "        const element = document.querySelector('#df-3e6588af-1c72-4b68-8052-da91972dc57a');\n",
              "        const dataTable =\n",
              "          await google.colab.kernel.invokeFunction('convertToInteractive',\n",
              "                                                    [key], {});\n",
              "        if (!dataTable) return;\n",
              "\n",
              "        const docLinkHtml = 'Like what you see? Visit the ' +\n",
              "          '<a target=\"_blank\" href=https://colab.research.google.com/notebooks/data_table.ipynb>data table notebook</a>'\n",
              "          + ' to learn more about interactive tables.';\n",
              "        element.innerHTML = '';\n",
              "        dataTable['output_type'] = 'display_data';\n",
              "        await google.colab.output.renderOutput(dataTable, element);\n",
              "        const docLink = document.createElement('div');\n",
              "        docLink.innerHTML = docLinkHtml;\n",
              "        element.appendChild(docLink);\n",
              "      }\n",
              "    </script>\n",
              "  </div>\n",
              "\n",
              "\n",
              "  <div id=\"id_163dcaae-c1c1-402f-9e95-35bba60607f6\">\n",
              "    <style>\n",
              "      .colab-df-generate {\n",
              "        background-color: #E8F0FE;\n",
              "        border: none;\n",
              "        border-radius: 50%;\n",
              "        cursor: pointer;\n",
              "        display: none;\n",
              "        fill: #1967D2;\n",
              "        height: 32px;\n",
              "        padding: 0 0 0 0;\n",
              "        width: 32px;\n",
              "      }\n",
              "\n",
              "      .colab-df-generate:hover {\n",
              "        background-color: #E2EBFA;\n",
              "        box-shadow: 0px 1px 2px rgba(60, 64, 67, 0.3), 0px 1px 3px 1px rgba(60, 64, 67, 0.15);\n",
              "        fill: #174EA6;\n",
              "      }\n",
              "\n",
              "      [theme=dark] .colab-df-generate {\n",
              "        background-color: #3B4455;\n",
              "        fill: #D2E3FC;\n",
              "      }\n",
              "\n",
              "      [theme=dark] .colab-df-generate:hover {\n",
              "        background-color: #434B5C;\n",
              "        box-shadow: 0px 1px 3px 1px rgba(0, 0, 0, 0.15);\n",
              "        filter: drop-shadow(0px 1px 2px rgba(0, 0, 0, 0.3));\n",
              "        fill: #FFFFFF;\n",
              "      }\n",
              "    </style>\n",
              "    <button class=\"colab-df-generate\" onclick=\"generateWithVariable('notebook_mais_caro')\"\n",
              "            title=\"Generate code using this dataframe.\"\n",
              "            style=\"display:none;\">\n",
              "\n",
              "  <svg xmlns=\"http://www.w3.org/2000/svg\" height=\"24px\"viewBox=\"0 0 24 24\"\n",
              "       width=\"24px\">\n",
              "    <path d=\"M7,19H8.4L18.45,9,17,7.55,7,17.6ZM5,21V16.75L18.45,3.32a2,2,0,0,1,2.83,0l1.4,1.43a1.91,1.91,0,0,1,.58,1.4,1.91,1.91,0,0,1-.58,1.4L9.25,21ZM18.45,9,17,7.55Zm-12,3A5.31,5.31,0,0,0,4.9,8.1,5.31,5.31,0,0,0,1,6.5,5.31,5.31,0,0,0,4.9,4.9,5.31,5.31,0,0,0,6.5,1,5.31,5.31,0,0,0,8.1,4.9,5.31,5.31,0,0,0,12,6.5,5.46,5.46,0,0,0,6.5,12Z\"/>\n",
              "  </svg>\n",
              "    </button>\n",
              "    <script>\n",
              "      (() => {\n",
              "      const buttonEl =\n",
              "        document.querySelector('#id_163dcaae-c1c1-402f-9e95-35bba60607f6 button.colab-df-generate');\n",
              "      buttonEl.style.display =\n",
              "        google.colab.kernel.accessAllowed ? 'block' : 'none';\n",
              "\n",
              "      buttonEl.onclick = () => {\n",
              "        google.colab.notebook.generateWithVariable('notebook_mais_caro');\n",
              "      }\n",
              "      })();\n",
              "    </script>\n",
              "  </div>\n",
              "\n",
              "    </div>\n",
              "  </div>\n"
            ],
            "text/plain": [
              "                                                 Laptop Status Brand  \\\n",
              "1335  Dell Precision 5770 Intel Core i7-12700H/16GB/...    New  Dell   \n",
              "\n",
              "          Model            CPU  RAM  Storage Storage type        GPU  Screen  \\\n",
              "1335  Precision  Intel Core i7   16      512          SSD  RTX A2000    17.0   \n",
              "\n",
              "     Touch  Final Price  \n",
              "1335   Yes       3936.0  "
            ]
          },
          "execution_count": 34,
          "metadata": {},
          "output_type": "execute_result"
        }
      ],
      "source": [
        "#Filtrar apenas os notebooks da Dell\n",
        "dell_notebooks = df[df[\"Brand\"] == \"Dell\"]\n",
        "\n",
        "#Encontrar o maior preço\n",
        "max_preco_dell = dell_notebooks[\"Final Price\"].max()\n",
        "\n",
        "#Filtrar o(s) notebook(s) com esse preço\n",
        "notebook_mais_caro = dell_notebooks[dell_notebooks[\"Final Price\"] == max_preco_dell]\n",
        "\n",
        "#Exibir os detalhes\n",
        "notebook_mais_caro"
      ]
    },
    {
      "cell_type": "markdown",
      "metadata": {
        "id": "iOLz6QNrW9XI"
      },
      "source": [
        "## Pergunta 7\n",
        "\n",
        "Qual a mediana do tamanho das telas?"
      ]
    },
    {
      "cell_type": "code",
      "execution_count": 37,
      "metadata": {
        "colab": {
          "base_uri": "https://localhost:8080/"
        },
        "id": "8HHDH3IvXBdT",
        "outputId": "9edc559f-c5be-4430-a324-0a1f32166743"
      },
      "outputs": [
        {
          "name": "stdout",
          "output_type": "stream",
          "text": [
            "A mediana do tamanho das telas é: 15.6\n"
          ]
        }
      ],
      "source": [
        "#Fazendo o Calculo das Mediana\n",
        "mediana_tela = df[\"Screen\"].median()\n",
        "\n",
        "#Chamando a Função\n",
        "print(f\"A mediana do tamanho das telas é: {mediana_tela}\")"
      ]
    },
    {
      "cell_type": "markdown",
      "metadata": {
        "id": "EoinaRJeXFC5"
      },
      "source": [
        "## Pergunta 8\n",
        "\n",
        "Como usar matplotlib para a distribuição dos preços de notebook?"
      ]
    },
    {
      "cell_type": "code",
      "execution_count": 39,
      "metadata": {
        "colab": {
          "base_uri": "https://localhost:8080/",
          "height": 487
        },
        "id": "RqtdzDuRXWSH",
        "outputId": "353b3305-f842-4211-8447-a1c508dce248"
      },
      "outputs": [
        {
          "data": {
            "image/png": "[encoded data removed]",
            "text/plain": [
              "<Figure size 1000x500 with 1 Axes>"
            ]
          },
          "metadata": {},
          "output_type": "display_data"
        }
      ],
      "source": [
        "#Assim como o Pandas, precisamos importar o Matplotlib\n",
        "import matplotlib.pyplot as plt\n",
        "\n",
        "#Criar o histograma\n",
        "plt.figure(figsize=(10, 5))\n",
        "plt.hist(df[\"Final Price\"], bins=30, color=\"blue\", edgecolor=\"black\", alpha=0.7)\n",
        "\n",
        "#Adicionar títulos e rótulos\n",
        "plt.title(\"Distribuição dos Preços dos Notebooks\")\n",
        "plt.xlabel(\"Preço (Final Price)\")\n",
        "plt.ylabel(\"Frequência\")\n",
        "\n",
        "#Exibir o gráfico\n",
        "plt.show()\n"
      ]
    },
    {
      "cell_type": "markdown",
      "metadata": {
        "id": "JabZH_40XrY2"
      },
      "source": [
        "## Pergunta 9\n",
        "\n",
        "Como usar matplotlib para ilustrar como os preços variam a depender se o notebook é novo ou não?"
      ]
    },
    {
      "cell_type": "code",
      "execution_count": 53,
      "metadata": {
        "colab": {
          "base_uri": "https://localhost:8080/",
          "height": 479
        },
        "id": "MH_dVNmRX5Mx",
        "outputId": "4596b460-bbb7-4b91-893d-3d94f9048748"
      },
      "outputs": [
        {
          "data": {
            "text/plain": [
              "<Figure size 800x500 with 0 Axes>"
            ]
          },
          "metadata": {},
          "output_type": "display_data"
        },
        {
          "data": {
            "image/png": "[encoded data removed]",
            "text/plain": [
              "<Figure size 640x480 with 1 Axes>"
            ]
          },
          "metadata": {},
          "output_type": "display_data"
        }
      ],
      "source": [
        "#Criar o boxplot\n",
        "plt.figure(figsize=(8, 5))\n",
        "df.boxplot(column=\"Final Price\", by=\"Status\", patch_artist=True)\n",
        "\n",
        "#Adicionar título e rótulos\n",
        "plt.title(\"Variação de Preço por Condição do Notebook\")\n",
        "plt.suptitle(\"\")  # Remove o título automático do Pandas\n",
        "plt.xlabel(\"Condição\")\n",
        "plt.ylabel(\"Preço (Final Price)\")\n",
        "\n",
        "plt.show()"
      ]
    },
    {
      "cell_type": "markdown",
      "metadata": {
        "id": "5dIWONaPX-cG"
      },
      "source": [
        "## Pergunta 10\n",
        "\n",
        "Imagine que você faz parte de uma equipe e deve predizer o preço do notebook com base nos dados que temos no dataset. Responda as seguintes perguntas:\n",
        "\n",
        "\n",
        "\n",
        "*   Esse seria uma problema de que tipo de aprendizado (supervisionado, não supervisionado ou por reforço)? Por que?\n",
        "*   Dos algoritmos vistos na aula passada, qual você usaria e por que?\n",
        "*   Quais colunas você usaria para criar o modelo e por que?\n",
        "\n"
      ]
    },
    {
      "cell_type": "code",
      "execution_count": null,
      "metadata": {
        "id": "n6BvNkCwYhai"
      },
      "outputs": [],
      "source": [
        "#1)\n",
        "''' aprendizado supervisionado, pois temos dados rotulados (o preço do notebook é um valor conhecido no dataset). \n",
        "No aprendizado supervisionado, o modelo aprende a partir de exemplos onde as entradas (características do notebook) estão associadas a uma saída conhecida (o preço).'''\n",
        "\n",
        "#2)\n",
        "''' Regressão Linear, pois o preço do notebook é uma variável contínua e tem uma relação com as características do notebook.'''\n",
        "\n",
        "#3) \n",
        "'''Queriamos começar com as Colunas que não usariamos porque não fariam impactos no Preço, Elas são \"ID\" \"Serial Number\", tambem tem a \"Release Date\" porem ela acaba sendo relativa...\n",
        "Dito isso acredito que \"Condition\" X \"GPU\" Sejam boas para começar a treinar um modelo porque são duas categorias que o preço pode ter diversas variações e depois entrar com \"Processor\".'''"
      ]
    }
  ],
  "metadata": {
    "colab": {
      "provenance": []
    },
    "kernelspec": {
      "display_name": "Python 3",
      "name": "python3"
    },
    "language_info": {
      "name": "python"
    }
  },
  "nbformat": 4,
  "nbformat_minor": 0
}
